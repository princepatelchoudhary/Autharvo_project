{
 "cells": [
  {
   "cell_type": "markdown",
   "id": "88dcb2ca",
   "metadata": {
    "papermill": {
     "duration": 0.007136,
     "end_time": "2024-08-27T23:13:21.816423",
     "exception": false,
     "start_time": "2024-08-27T23:13:21.809287",
     "status": "completed"
    },
    "tags": []
   },
   "source": [
    "# Practice notebook\n",
    "\n",
    "## **Reason**\n",
    "The idea of this notebook is primarily for studying. A data engineer with limited knowledge of data science. Therefore, starting off with the Linear Regression, I believe it's a good one to use and understand what's happening. \n",
    "\n",
    "---\n",
    "\n",
    "\n",
    "### What is Linear Regression\n",
    "According to the [Statistics by Jim](https://statisticsbyjim.com/regression/linear-regression/), linear regression is a statistic method that models the relationships between at least one explanatory variable and an outcome variable. The main idea behind the linear regression is finding the best straight line that minimizes the difference between the observed values and predicted values.\n",
    "\n",
    "- **Dependent Variable:** Value that are meant to be predicted.\n",
    "- **Independent Variable:** A value (Simple Linear Regression) or multiple values (Multiple Regression) that are used to explain the dependent variable that is being analyzed.\n",
    "\n",
    "### Linear regression has two primary purposes:\n",
    "1. **Coefficients:** Represent the estimated magnitude and direction, positive/negative, of the relationship between each independent variable and the dependent variable.\n",
    "2. **Equation:** Allows it to predict the mean value of the dependent variable given the values of the independent variables that you specify.\n",
    "\n",
    "### Evaluation Metrics\n",
    "- **R-squared (Coefficient of determination):** Metric to evaluate the performance of regression models. It explains the variation in the dependent variable, ranging from 0 to 1, where 1 indicates a perfect fir of the model to the data.\n",
    "- **Mean Squared Error (MSE):** Metric to evaluate the performance and accuracy of the predictive models.\n",
    "- **Mean Absolute Error (MAE):** Metric to evaluate the accuracy of regression models. It measures the average absolute difference between the predicted values and the actual target values.\n",
    "\n",
    "---\n",
    "\n",
    "\n",
    "## **References**\n",
    "[R-squared](https://towardsdatascience.com/interpreting-r%C2%B2-a-narrative-guide-for-the-perplexed-086a9a69c1ec)<br>\n",
    "[Mean Squared Error](https://medium.com/@TheDataScience-ProF/understanding-mean-squared-error-mse-in-machine-learning-442795910802)<br>\n",
    "[Mean Absolute Error](https://medium.com/@m.waqar.ahmed/understanding-mean-absolute-error-mae-in-regression-a-practical-guide-26e80ebb97df)"
   ]
  },
  {
   "cell_type": "code",
   "execution_count": 1,
   "id": "72738499",
   "metadata": {
    "_cell_guid": "b1076dfc-b9ad-4769-8c92-a6c4dae69d19",
    "_uuid": "8f2839f25d086af736a60e9eeb907d3b93b6e0e5",
    "execution": {
     "iopub.execute_input": "2024-08-27T23:13:21.828864Z",
     "iopub.status.busy": "2024-08-27T23:13:21.828300Z",
     "iopub.status.idle": "2024-08-27T23:13:24.492272Z",
     "shell.execute_reply": "2024-08-27T23:13:24.491033Z"
    },
    "papermill": {
     "duration": 2.673552,
     "end_time": "2024-08-27T23:13:24.495470",
     "exception": false,
     "start_time": "2024-08-27T23:13:21.821918",
     "status": "completed"
    },
    "tags": []
   },
   "outputs": [],
   "source": [
    "import numpy as np\n",
    "import pandas as pd\n",
    "import seaborn as sns\n",
    "import matplotlib.pyplot as plt\n",
    "\n",
    "from sklearn.linear_model import LinearRegression\n",
    "from sklearn.metrics import mean_squared_error, r2_score"
   ]
  },
  {
   "cell_type": "code",
   "execution_count": 2,
   "id": "55e584bc",
   "metadata": {
    "execution": {
     "iopub.execute_input": "2024-08-27T23:13:24.507267Z",
     "iopub.status.busy": "2024-08-27T23:13:24.506624Z",
     "iopub.status.idle": "2024-08-27T23:13:24.580344Z",
     "shell.execute_reply": "2024-08-27T23:13:24.579078Z"
    },
    "papermill": {
     "duration": 0.082711,
     "end_time": "2024-08-27T23:13:24.583191",
     "exception": false,
     "start_time": "2024-08-27T23:13:24.500480",
     "status": "completed"
    },
    "tags": []
   },
   "outputs": [],
   "source": [
    "df_test = pd.read_csv(\"/kaggle/input/random-linear-regression/test.csv\")\n",
    "df_train = pd.read_csv(\"/kaggle/input/random-linear-regression/train.csv\")"
   ]
  },
  {
   "cell_type": "code",
   "execution_count": 3,
   "id": "bcf518b8",
   "metadata": {
    "execution": {
     "iopub.execute_input": "2024-08-27T23:13:24.595682Z",
     "iopub.status.busy": "2024-08-27T23:13:24.594669Z",
     "iopub.status.idle": "2024-08-27T23:13:24.632131Z",
     "shell.execute_reply": "2024-08-27T23:13:24.630882Z"
    },
    "papermill": {
     "duration": 0.046533,
     "end_time": "2024-08-27T23:13:24.635023",
     "exception": false,
     "start_time": "2024-08-27T23:13:24.588490",
     "status": "completed"
    },
    "tags": []
   },
   "outputs": [
    {
     "data": {
      "text/html": [
       "<div>\n",
       "<style scoped>\n",
       "    .dataframe tbody tr th:only-of-type {\n",
       "        vertical-align: middle;\n",
       "    }\n",
       "\n",
       "    .dataframe tbody tr th {\n",
       "        vertical-align: top;\n",
       "    }\n",
       "\n",
       "    .dataframe thead th {\n",
       "        text-align: right;\n",
       "    }\n",
       "</style>\n",
       "<table border=\"1\" class=\"dataframe\">\n",
       "  <thead>\n",
       "    <tr style=\"text-align: right;\">\n",
       "      <th></th>\n",
       "      <th>x</th>\n",
       "      <th>y</th>\n",
       "    </tr>\n",
       "  </thead>\n",
       "  <tbody>\n",
       "    <tr>\n",
       "      <th>count</th>\n",
       "      <td>700.000000</td>\n",
       "      <td>699.000000</td>\n",
       "    </tr>\n",
       "    <tr>\n",
       "      <th>mean</th>\n",
       "      <td>54.985939</td>\n",
       "      <td>49.939869</td>\n",
       "    </tr>\n",
       "    <tr>\n",
       "      <th>std</th>\n",
       "      <td>134.681703</td>\n",
       "      <td>29.109217</td>\n",
       "    </tr>\n",
       "    <tr>\n",
       "      <th>min</th>\n",
       "      <td>0.000000</td>\n",
       "      <td>-3.839981</td>\n",
       "    </tr>\n",
       "    <tr>\n",
       "      <th>25%</th>\n",
       "      <td>25.000000</td>\n",
       "      <td>24.929968</td>\n",
       "    </tr>\n",
       "    <tr>\n",
       "      <th>50%</th>\n",
       "      <td>49.000000</td>\n",
       "      <td>48.973020</td>\n",
       "    </tr>\n",
       "    <tr>\n",
       "      <th>75%</th>\n",
       "      <td>75.000000</td>\n",
       "      <td>74.929911</td>\n",
       "    </tr>\n",
       "    <tr>\n",
       "      <th>max</th>\n",
       "      <td>3530.157369</td>\n",
       "      <td>108.871618</td>\n",
       "    </tr>\n",
       "  </tbody>\n",
       "</table>\n",
       "</div>"
      ],
      "text/plain": [
       "                 x           y\n",
       "count   700.000000  699.000000\n",
       "mean     54.985939   49.939869\n",
       "std     134.681703   29.109217\n",
       "min       0.000000   -3.839981\n",
       "25%      25.000000   24.929968\n",
       "50%      49.000000   48.973020\n",
       "75%      75.000000   74.929911\n",
       "max    3530.157369  108.871618"
      ]
     },
     "execution_count": 3,
     "metadata": {},
     "output_type": "execute_result"
    }
   ],
   "source": [
    "# Analyzing the info we noticed that the df_train has a single NAN value and an outlier.\n",
    "df_train.describe()"
   ]
  },
  {
   "cell_type": "code",
   "execution_count": 4,
   "id": "a60396c4",
   "metadata": {
    "execution": {
     "iopub.execute_input": "2024-08-27T23:13:24.647835Z",
     "iopub.status.busy": "2024-08-27T23:13:24.647034Z",
     "iopub.status.idle": "2024-08-27T23:13:24.665486Z",
     "shell.execute_reply": "2024-08-27T23:13:24.664344Z"
    },
    "papermill": {
     "duration": 0.027733,
     "end_time": "2024-08-27T23:13:24.668061",
     "exception": false,
     "start_time": "2024-08-27T23:13:24.640328",
     "status": "completed"
    },
    "tags": []
   },
   "outputs": [
    {
     "data": {
      "text/html": [
       "<div>\n",
       "<style scoped>\n",
       "    .dataframe tbody tr th:only-of-type {\n",
       "        vertical-align: middle;\n",
       "    }\n",
       "\n",
       "    .dataframe tbody tr th {\n",
       "        vertical-align: top;\n",
       "    }\n",
       "\n",
       "    .dataframe thead th {\n",
       "        text-align: right;\n",
       "    }\n",
       "</style>\n",
       "<table border=\"1\" class=\"dataframe\">\n",
       "  <thead>\n",
       "    <tr style=\"text-align: right;\">\n",
       "      <th></th>\n",
       "      <th>x</th>\n",
       "      <th>y</th>\n",
       "    </tr>\n",
       "  </thead>\n",
       "  <tbody>\n",
       "    <tr>\n",
       "      <th>count</th>\n",
       "      <td>300.000000</td>\n",
       "      <td>300.000000</td>\n",
       "    </tr>\n",
       "    <tr>\n",
       "      <th>mean</th>\n",
       "      <td>50.936667</td>\n",
       "      <td>51.205051</td>\n",
       "    </tr>\n",
       "    <tr>\n",
       "      <th>std</th>\n",
       "      <td>28.504286</td>\n",
       "      <td>29.071481</td>\n",
       "    </tr>\n",
       "    <tr>\n",
       "      <th>min</th>\n",
       "      <td>0.000000</td>\n",
       "      <td>-3.467884</td>\n",
       "    </tr>\n",
       "    <tr>\n",
       "      <th>25%</th>\n",
       "      <td>27.000000</td>\n",
       "      <td>25.676502</td>\n",
       "    </tr>\n",
       "    <tr>\n",
       "      <th>50%</th>\n",
       "      <td>53.000000</td>\n",
       "      <td>52.170557</td>\n",
       "    </tr>\n",
       "    <tr>\n",
       "      <th>75%</th>\n",
       "      <td>73.000000</td>\n",
       "      <td>74.303007</td>\n",
       "    </tr>\n",
       "    <tr>\n",
       "      <th>max</th>\n",
       "      <td>100.000000</td>\n",
       "      <td>105.591837</td>\n",
       "    </tr>\n",
       "  </tbody>\n",
       "</table>\n",
       "</div>"
      ],
      "text/plain": [
       "                x           y\n",
       "count  300.000000  300.000000\n",
       "mean    50.936667   51.205051\n",
       "std     28.504286   29.071481\n",
       "min      0.000000   -3.467884\n",
       "25%     27.000000   25.676502\n",
       "50%     53.000000   52.170557\n",
       "75%     73.000000   74.303007\n",
       "max    100.000000  105.591837"
      ]
     },
     "execution_count": 4,
     "metadata": {},
     "output_type": "execute_result"
    }
   ],
   "source": [
    "# The df_test looks more normal.\n",
    "df_test.describe()"
   ]
  },
  {
   "cell_type": "code",
   "execution_count": 5,
   "id": "32e292e4",
   "metadata": {
    "execution": {
     "iopub.execute_input": "2024-08-27T23:13:24.681209Z",
     "iopub.status.busy": "2024-08-27T23:13:24.680394Z",
     "iopub.status.idle": "2024-08-27T23:13:24.970067Z",
     "shell.execute_reply": "2024-08-27T23:13:24.968787Z"
    },
    "papermill": {
     "duration": 0.299395,
     "end_time": "2024-08-27T23:13:24.972906",
     "exception": false,
     "start_time": "2024-08-27T23:13:24.673511",
     "status": "completed"
    },
    "tags": []
   },
   "outputs": [
    {
     "data": {
      "text/plain": [
       "<Axes: >"
      ]
     },
     "execution_count": 5,
     "metadata": {},
     "output_type": "execute_result"
    },
    {
     "data": {
      "image/png": "[encoded data removed]",
      "text/plain": [
       "<Figure size 640x480 with 1 Axes>"
      ]
     },
     "metadata": {},
     "output_type": "display_data"
    }
   ],
   "source": [
    "# Plotting the boxplot for a visual representation. As you can see the outlier is plotted there.\n",
    "sns.boxplot(data=df_train)"
   ]
  },
  {
   "cell_type": "code",
   "execution_count": 6,
   "id": "583664c2",
   "metadata": {
    "execution": {
     "iopub.execute_input": "2024-08-27T23:13:24.987278Z",
     "iopub.status.busy": "2024-08-27T23:13:24.986492Z",
     "iopub.status.idle": "2024-08-27T23:13:24.999235Z",
     "shell.execute_reply": "2024-08-27T23:13:24.998180Z"
    },
    "papermill": {
     "duration": 0.022866,
     "end_time": "2024-08-27T23:13:25.001863",
     "exception": false,
     "start_time": "2024-08-27T23:13:24.978997",
     "status": "completed"
    },
    "tags": []
   },
   "outputs": [],
   "source": [
    "# Treating the missing value by replacing with the mean.\n",
    "df_train[\"y\"] = df_train[\"y\"].fillna(df_train[\"y\"].mean())\n",
    "\n",
    "# Use the IQR to measure the spread that is not affected by outliers.\n",
    "q1 = df_train.quantile(0.25)\n",
    "q3 = df_train.quantile(0.75)\n",
    "iqr = q3 - q1\n",
    "\n",
    "upper_bound = q3 + 1.5 * iqr\n",
    "\n",
    "# Replace the outlier by the mean\n",
    "mean_value = df_train[\"x\"].mean()\n",
    "df_train[\"x\"] = np.where((df_train[\"x\"] > upper_bound[\"x\"]), mean_value, df_train[\"x\"])"
   ]
  },
  {
   "cell_type": "code",
   "execution_count": 7,
   "id": "79531a87",
   "metadata": {
    "execution": {
     "iopub.execute_input": "2024-08-27T23:13:25.015587Z",
     "iopub.status.busy": "2024-08-27T23:13:25.015185Z",
     "iopub.status.idle": "2024-08-27T23:13:25.248406Z",
     "shell.execute_reply": "2024-08-27T23:13:25.247113Z"
    },
    "papermill": {
     "duration": 0.243167,
     "end_time": "2024-08-27T23:13:25.251134",
     "exception": false,
     "start_time": "2024-08-27T23:13:25.007967",
     "status": "completed"
    },
    "tags": []
   },
   "outputs": [
    {
     "data": {
      "text/plain": [
       "<Axes: >"
      ]
     },
     "execution_count": 7,
     "metadata": {},
     "output_type": "execute_result"
    },
    {
     "data": {
      "image/png": "[encoded data removed]",
      "text/plain": [
       "<Figure size 640x480 with 1 Axes>"
      ]
     },
     "metadata": {},
     "output_type": "display_data"
    }
   ],
   "source": [
    "# Now the boxplot looks good.\n",
    "sns.boxplot(data=df_train)"
   ]
  },
  {
   "cell_type": "code",
   "execution_count": 8,
   "id": "ab07d8a8",
   "metadata": {
    "execution": {
     "iopub.execute_input": "2024-08-27T23:13:25.266018Z",
     "iopub.status.busy": "2024-08-27T23:13:25.265557Z",
     "iopub.status.idle": "2024-08-27T23:13:25.273607Z",
     "shell.execute_reply": "2024-08-27T23:13:25.272372Z"
    },
    "papermill": {
     "duration": 0.018792,
     "end_time": "2024-08-27T23:13:25.276474",
     "exception": false,
     "start_time": "2024-08-27T23:13:25.257682",
     "status": "completed"
    },
    "tags": []
   },
   "outputs": [],
   "source": [
    "# x = features // y = target\n",
    "x_train = df_train[[\"x\"]]\n",
    "y_train = df_train[\"y\"]\n",
    "\n",
    "x_test = df_test[[\"x\"]]\n",
    "y_test = df_test[\"y\"]"
   ]
  },
  {
   "cell_type": "code",
   "execution_count": 9,
   "id": "61bf3df6",
   "metadata": {
    "execution": {
     "iopub.execute_input": "2024-08-27T23:13:25.291686Z",
     "iopub.status.busy": "2024-08-27T23:13:25.290742Z",
     "iopub.status.idle": "2024-08-27T23:13:25.318802Z",
     "shell.execute_reply": "2024-08-27T23:13:25.317547Z"
    },
    "papermill": {
     "duration": 0.038399,
     "end_time": "2024-08-27T23:13:25.321445",
     "exception": false,
     "start_time": "2024-08-27T23:13:25.283046",
     "status": "completed"
    },
    "tags": []
   },
   "outputs": [
    {
     "data": {
      "text/html": [
       "<style>#sk-container-id-1 {color: black;background-color: white;}#sk-container-id-1 pre{padding: 0;}#sk-container-id-1 div.sk-toggleable {background-color: white;}#sk-container-id-1 label.sk-toggleable__label {cursor: pointer;display: block;width: 100%;margin-bottom: 0;padding: 0.3em;box-sizing: border-box;text-align: center;}#sk-container-id-1 label.sk-toggleable__label-arrow:before {content: \"▸\";float: left;margin-right: 0.25em;color: #696969;}#sk-container-id-1 label.sk-toggleable__label-arrow:hover:before {color: black;}#sk-container-id-1 div.sk-estimator:hover label.sk-toggleable__label-arrow:before {color: black;}#sk-container-id-1 div.sk-toggleable__content {max-height: 0;max-width: 0;overflow: hidden;text-align: left;background-color: #f0f8ff;}#sk-container-id-1 div.sk-toggleable__content pre {margin: 0.2em;color: black;border-radius: 0.25em;background-color: #f0f8ff;}#sk-container-id-1 input.sk-toggleable__control:checked~div.sk-toggleable__content {max-height: 200px;max-width: 100%;overflow: auto;}#sk-container-id-1 input.sk-toggleable__control:checked~label.sk-toggleable__label-arrow:before {content: \"▾\";}#sk-container-id-1 div.sk-estimator input.sk-toggleable__control:checked~label.sk-toggleable__label {background-color: #d4ebff;}#sk-container-id-1 div.sk-label input.sk-toggleable__control:checked~label.sk-toggleable__label {background-color: #d4ebff;}#sk-container-id-1 input.sk-hidden--visually {border: 0;clip: rect(1px 1px 1px 1px);clip: rect(1px, 1px, 1px, 1px);height: 1px;margin: -1px;overflow: hidden;padding: 0;position: absolute;width: 1px;}#sk-container-id-1 div.sk-estimator {font-family: monospace;background-color: #f0f8ff;border: 1px dotted black;border-radius: 0.25em;box-sizing: border-box;margin-bottom: 0.5em;}#sk-container-id-1 div.sk-estimator:hover {background-color: #d4ebff;}#sk-container-id-1 div.sk-parallel-item::after {content: \"\";width: 100%;border-bottom: 1px solid gray;flex-grow: 1;}#sk-container-id-1 div.sk-label:hover label.sk-toggleable__label {background-color: #d4ebff;}#sk-container-id-1 div.sk-serial::before {content: \"\";position: absolute;border-left: 1px solid gray;box-sizing: border-box;top: 0;bottom: 0;left: 50%;z-index: 0;}#sk-container-id-1 div.sk-serial {display: flex;flex-direction: column;align-items: center;background-color: white;padding-right: 0.2em;padding-left: 0.2em;position: relative;}#sk-container-id-1 div.sk-item {position: relative;z-index: 1;}#sk-container-id-1 div.sk-parallel {display: flex;align-items: stretch;justify-content: center;background-color: white;position: relative;}#sk-container-id-1 div.sk-item::before, #sk-container-id-1 div.sk-parallel-item::before {content: \"\";position: absolute;border-left: 1px solid gray;box-sizing: border-box;top: 0;bottom: 0;left: 50%;z-index: -1;}#sk-container-id-1 div.sk-parallel-item {display: flex;flex-direction: column;z-index: 1;position: relative;background-color: white;}#sk-container-id-1 div.sk-parallel-item:first-child::after {align-self: flex-end;width: 50%;}#sk-container-id-1 div.sk-parallel-item:last-child::after {align-self: flex-start;width: 50%;}#sk-container-id-1 div.sk-parallel-item:only-child::after {width: 0;}#sk-container-id-1 div.sk-dashed-wrapped {border: 1px dashed gray;margin: 0 0.4em 0.5em 0.4em;box-sizing: border-box;padding-bottom: 0.4em;background-color: white;}#sk-container-id-1 div.sk-label label {font-family: monospace;font-weight: bold;display: inline-block;line-height: 1.2em;}#sk-container-id-1 div.sk-label-container {text-align: center;}#sk-container-id-1 div.sk-container {/* jupyter's `normalize.less` sets `[hidden] { display: none; }` but bootstrap.min.css set `[hidden] { display: none !important; }` so we also need the `!important` here to be able to override the default hidden behavior on the sphinx rendered scikit-learn.org. See: https://github.com/scikit-learn/scikit-learn/issues/21755 */display: inline-block !important;position: relative;}#sk-container-id-1 div.sk-text-repr-fallback {display: none;}</style><div id=\"sk-container-id-1\" class=\"sk-top-container\"><div class=\"sk-text-repr-fallback\"><pre>LinearRegression()</pre><b>In a Jupyter environment, please rerun this cell to show the HTML representation or trust the notebook. <br />On GitHub, the HTML representation is unable to render, please try loading this page with nbviewer.org.</b></div><div class=\"sk-container\" hidden><div class=\"sk-item\"><div class=\"sk-estimator sk-toggleable\"><input class=\"sk-toggleable__control sk-hidden--visually\" id=\"sk-estimator-id-1\" type=\"checkbox\" checked><label for=\"sk-estimator-id-1\" class=\"sk-toggleable__label sk-toggleable__label-arrow\">LinearRegression</label><div class=\"sk-toggleable__content\"><pre>LinearRegression()</pre></div></div></div></div></div>"
      ],
      "text/plain": [
       "LinearRegression()"
      ]
     },
     "execution_count": 9,
     "metadata": {},
     "output_type": "execute_result"
    }
   ],
   "source": [
    "model = LinearRegression()\n",
    "\n",
    "model.fit(x_train, y_train)"
   ]
  },
  {
   "cell_type": "code",
   "execution_count": 10,
   "id": "3f906fb2",
   "metadata": {
    "execution": {
     "iopub.execute_input": "2024-08-27T23:13:25.337075Z",
     "iopub.status.busy": "2024-08-27T23:13:25.336587Z",
     "iopub.status.idle": "2024-08-27T23:13:25.344102Z",
     "shell.execute_reply": "2024-08-27T23:13:25.343041Z"
    },
    "papermill": {
     "duration": 0.01799,
     "end_time": "2024-08-27T23:13:25.346492",
     "exception": false,
     "start_time": "2024-08-27T23:13:25.328502",
     "status": "completed"
    },
    "tags": []
   },
   "outputs": [],
   "source": [
    "y_pred = model.predict(x_test)"
   ]
  },
  {
   "cell_type": "code",
   "execution_count": 11,
   "id": "19d6f8ae",
   "metadata": {
    "execution": {
     "iopub.execute_input": "2024-08-27T23:13:25.363385Z",
     "iopub.status.busy": "2024-08-27T23:13:25.362905Z",
     "iopub.status.idle": "2024-08-27T23:13:25.372228Z",
     "shell.execute_reply": "2024-08-27T23:13:25.371059Z"
    },
    "papermill": {
     "duration": 0.021602,
     "end_time": "2024-08-27T23:13:25.374828",
     "exception": false,
     "start_time": "2024-08-27T23:13:25.353226",
     "status": "completed"
    },
    "tags": []
   },
   "outputs": [
    {
     "name": "stdout",
     "output_type": "stream",
     "text": [
      "Mean Squared Error: 9.44\n",
      "R-squared: 0.99\n"
     ]
    }
   ],
   "source": [
    "mse = round(mean_squared_error(y_test, y_pred), 2)\n",
    "r2 = round(r2_score(y_test, y_pred), 2)\n",
    "\n",
    "print(f'Mean Squared Error: {mse}')\n",
    "\n",
    "# The model explains 99% of the variance.\n",
    "print(f'R-squared: {r2}')"
   ]
  }
 ],
 "metadata": {
  "kaggle": {
   "accelerator": "none",
   "dataSources": [
    {
     "datasetId": 1256,
     "sourceId": 2242,
     "sourceType": "datasetVersion"
    }
   ],
   "dockerImageVersionId": 30761,
   "isGpuEnabled": false,
   "isInternetEnabled": true,
   "language": "python",
   "sourceType": "notebook"
  },
  "kernelspec": {
   "display_name": "Python 3",
   "language": "python",
   "name": "python3"
  },
  "language_info": {
   "codemirror_mode": {
    "name": "ipython",
    "version": 3
   },
   "file_extension": ".py",
   "mimetype": "text/x-python",
   "name": "python",
   "nbconvert_exporter": "python",
   "pygments_lexer": "ipython3",
   "version": "3.10.14"
  },
  "papermill": {
   "default_parameters": {},
   "duration": 7.334576,
   "end_time": "2024-08-27T23:13:26.105924",
   "environment_variables": {},
   "exception": null,
   "input_path": "__notebook__.ipynb",
   "output_path": "__notebook__.ipynb",
   "parameters": {},
   "start_time": "2024-08-27T23:13:18.771348",
   "version": "2.6.0"
  }
 },
 "nbformat": 4,
 "nbformat_minor": 5
}
